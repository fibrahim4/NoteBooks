{
 "cells": [
  {
   "cell_type": "code",
   "execution_count": 2,
   "id": "a6edabde-0582-44c9-ae9f-7683cdffc53c",
   "metadata": {},
   "outputs": [],
   "source": [
    "#User function Template for python3\n",
    "\n",
    "class Solution:\n",
    "    def sort012(self, arr, n):\n",
    "        low = 0\n",
    "        mid = 0\n",
    "        high = n - 1\n",
    "        \n",
    "        while mid <= high:\n",
    "            if arr[mid] == 0:\n",
    "                arr[low], arr[mid] = arr[mid], arr[low]\n",
    "                low += 1\n",
    "                mid += 1\n",
    "            elif arr[mid] == 1:\n",
    "                mid += 1\n",
    "            else:\n",
    "                arr[mid], arr[high] = arr[high], arr[mid]\n",
    "                high -= 1\n",
    "        return arr"
   ]
  },
  {
   "cell_type": "markdown",
   "id": "835b4122-4765-4d66-9400-d13167382933",
   "metadata": {},
   "source": [
    "Complete the programming exercise - Sort an Array of 0s, 1s, and 2s"
   ]
  },
  {
   "cell_type": "code",
   "execution_count": null,
   "id": "8352ecd9-f4bd-4192-b8a5-49d1ef80c7ee",
   "metadata": {},
   "outputs": [],
   "source": [
    "class Solution:\t\n",
    "\tdef bin_search(self, arr, left, right, key):\n",
    "\t\t#check if left index is greater than right index\n",
    "\t\t#which means key is not found in the array\n",
    "\t\tif left > right:\n",
    "\t\t\treturn -1\n",
    "\t\t\n",
    "\t\t#calculate the middle index\n",
    "\t\tmid = (left + right) // 2\n",
    "\t\t\n",
    "\t\t#check if the element at the middle index is equal to the key\n",
    "\t\tif arr[mid] == key:\n",
    "\t\t\treturn mid\n",
    "\t\t\n",
    "\t\t#if the element is greater than the key, \n",
    "\t\t#we search in the left half of the array\n",
    "\t\telif arr[mid] > key:\n",
    "\t\t\treturn self.bin_search (arr, left, mid - 1, key)\n",
    "\t\t\n",
    "\t\t#if the element is smaller than the key,\n",
    "\t\t#we search in the right half of the array\n",
    "\t\telse:\n",
    "\t\t\treturn self.bin_search (arr, mid + 1, right, key)\n",
    "\t\n",
    "\tdef binarysearch(self, arr, n, k):\n",
    "\t\t#call the recursive binary search function\n",
    "\t\treturn self.bin_search(arr, 0, n-1, k)"
   ]
  },
  {
   "cell_type": "markdown",
   "id": "ae3e65c0-3a83-430b-ae97-e8bea88d35a8",
   "metadata": {},
   "source": [
    "Complete the programming exercise - Binary Search"
   ]
  }
 ],
 "metadata": {
  "kernelspec": {
   "display_name": "Python 3 (ipykernel)",
   "language": "python",
   "name": "python3"
  },
  "language_info": {
   "codemirror_mode": {
    "name": "ipython",
    "version": 3
   },
   "file_extension": ".py",
   "mimetype": "text/x-python",
   "name": "python",
   "nbconvert_exporter": "python",
   "pygments_lexer": "ipython3",
   "version": "3.11.7"
  }
 },
 "nbformat": 4,
 "nbformat_minor": 5
}
