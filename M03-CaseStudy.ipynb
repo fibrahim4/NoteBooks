{
 "cells": [
  {
   "cell_type": "code",
   "execution_count": 2,
   "id": "aac1d51a-23ca-4a05-afba-381f71594999",
   "metadata": {},
   "outputs": [
    {
     "name": "stdin",
     "output_type": "stream",
     "text": [
      "Enter vehicle type (car, truck, plane, boat, broomstick):  car\n",
      "Enter year:  2005\n",
      "Enter make:  toyota\n",
      "Enter model:  camry\n",
      "Enter number of doors (2 or 4):  4\n",
      "Enter type of roof (solid or sun roof):  solid\n"
     ]
    },
    {
     "name": "stdout",
     "output_type": "stream",
     "text": [
      "\n",
      "Vehicle Information:\n",
      "Vehicle type: car\n",
      "Year: 2005\n",
      "Make: toyota\n",
      "Model: camry\n",
      "Number of doors: 4\n",
      "Type of roof: solid\n"
     ]
    }
   ],
   "source": [
    "class Vehicle:\n",
    "    def __init__(self):\n",
    "        self.vehicle_type = None\n",
    "\n",
    "    def set_vehicle_type(self, vehicle_type):\n",
    "        self.vehicle_type = vehicle_type\n",
    "\n",
    "\n",
    "class Automobile(Vehicle):\n",
    "    def __init__(self):\n",
    "        super().__init__()\n",
    "        self.year = None\n",
    "        self.make = None\n",
    "        self.model = None\n",
    "        self.doors = None\n",
    "        self.roof = None\n",
    "\n",
    "    def set_attributes(self, year, make, model, doors, roof):\n",
    "        self.year = year\n",
    "        self.make = make\n",
    "        self.model = model\n",
    "        self.doors = doors\n",
    "        self.roof = roof\n",
    "\n",
    "    def display_info(self):\n",
    "        print(\"Vehicle type:\", self.vehicle_type)\n",
    "        print(\"Year:\", self.year)\n",
    "        print(\"Make:\", self.make)\n",
    "        print(\"Model:\", self.model)\n",
    "        print(\"Number of doors:\", self.doors)\n",
    "        print(\"Type of roof:\", self.roof)\n",
    "\n",
    "\n",
    "def main():\n",
    "    automobile = Automobile()\n",
    "    vehicle_type = input(\"Enter vehicle type (car, truck, plane, boat, broomstick): \")\n",
    "    automobile.set_vehicle_type(vehicle_type)\n",
    "    year = input(\"Enter year: \")\n",
    "    make = input(\"Enter make: \")\n",
    "    model = input(\"Enter model: \")\n",
    "    doors = input(\"Enter number of doors (2 or 4): \")\n",
    "    roof = input(\"Enter type of roof (solid or sun roof): \")\n",
    "    automobile.set_attributes(year, make, model, doors, roof)\n",
    "    print(\"\\nVehicle Information:\")\n",
    "    automobile.display_info()\n",
    "\n",
    "\n",
    "if __name__ == \"__main__\":\n",
    "    main()\n"
   ]
  },
  {
   "cell_type": "markdown",
   "id": "5063899c-89dc-4120-b0e2-b2f1acb9cf0c",
   "metadata": {},
   "source": [
    "Vehicle and Automobile Classes:\n",
    "\n",
    "The code defines two classes: Vehicle and Automobile.\n",
    "Vehicle is a superclass with an attribute vehicle_type.\n",
    "Automobile is a subclass of Vehicle and has additional attributes: year, make, model, doors, and roof.\n",
    "set_vehicle_type Method:\n",
    "\n",
    "This method in the Vehicle class sets the vehicle_type attribute.\n",
    "set_attributes Method:\n",
    "\n",
    "This method in the Automobile class sets all the attributes (year, make, model, doors, roof) of an automobile.\n",
    "display_info Method:\n",
    "\n",
    "This method in the Automobile class prints out all the attributes of the automobile in a readable format.\n",
    "main Function:\n",
    "\n",
    "The main function is the entry point of the program.\n",
    "It creates an instance of the Automobile class.\n",
    "It prompts the user to input information about the car: vehicle_type, year, make, model, doors, and roof.\n",
    "It calls the set_vehicle_type and set_attributes methods to set the attributes of the automobile.\n",
    "Finally, it prints out the vehicle information using the display_info method.\n",
    "User Input:\n",
    "\n",
    "The program asks the user to input information about the car, such as its type, year, make, model, number of doors, and type of roof.\n",
    "Output:\n",
    "\n",
    "After receiving the input, the program displays the entered information in an easy-to-read format, including the vehicle type, year, make, model, number of doors, and type of roof.\n"
   ]
  }
 ],
 "metadata": {
  "kernelspec": {
   "display_name": "Python 3 (ipykernel)",
   "language": "python",
   "name": "python3"
  },
  "language_info": {
   "codemirror_mode": {
    "name": "ipython",
    "version": 3
   },
   "file_extension": ".py",
   "mimetype": "text/x-python",
   "name": "python",
   "nbconvert_exporter": "python",
   "pygments_lexer": "ipython3",
   "version": "3.11.7"
  }
 },
 "nbformat": 4,
 "nbformat_minor": 5
}
