{
 "cells": [
  {
   "cell_type": "code",
   "execution_count": null,
   "id": "a1283bac-ab8f-464a-b5b4-4ac286ac71f5",
   "metadata": {},
   "outputs": [
    {
     "name": "stdout",
     "output_type": "stream",
     "text": [
      "Welcome to the Student Awards App!\n",
      "Enter 'ZZZ' for last name to quit.\n"
     ]
    },
    {
     "name": "stdin",
     "output_type": "stream",
     "text": [
      "\n",
      "Enter student's last name:  zzz\n",
      "Enter student's first name:  fuahd\n",
      "Enter student's GPA:  3.5\n"
     ]
    },
    {
     "name": "stdout",
     "output_type": "stream",
     "text": [
      "fuahd zzz has made the Dean's List!\n"
     ]
    },
    {
     "name": "stdin",
     "output_type": "stream",
     "text": [
      "\n",
      "Enter student's last name:  zzz\n",
      "Enter student's first name:  ayo\n",
      "Enter student's GPA:  3.3\n"
     ]
    },
    {
     "name": "stdout",
     "output_type": "stream",
     "text": [
      "ayo zzz has made the Honor Roll!\n"
     ]
    },
    {
     "name": "stdin",
     "output_type": "stream",
     "text": [
      "\n",
      "Enter student's last name:  zzz\n",
      "Enter student's first name:  shola\n",
      "Enter student's GPA:  3.9\n"
     ]
    },
    {
     "name": "stdout",
     "output_type": "stream",
     "text": [
      "shola zzz has made the Dean's List!\n"
     ]
    },
    {
     "name": "stdin",
     "output_type": "stream",
     "text": [
      "\n",
      "Enter student's last name:  zzz\n",
      "Enter student's first name:  adekunle\n",
      "Enter student's GPA:  3.1\n"
     ]
    },
    {
     "name": "stdout",
     "output_type": "stream",
     "text": [
      "Sorry, adekunle zzz does not qualify for any awards.\n"
     ]
    },
    {
     "name": "stdin",
     "output_type": "stream",
     "text": [
      "\n",
      "Enter student's last name:  zzz\n",
      "Enter student's first name:  ibrahim\n",
      "Enter student's GPA:  4.0\n"
     ]
    },
    {
     "name": "stdout",
     "output_type": "stream",
     "text": [
      "ibrahim zzz has made the Dean's List!\n"
     ]
    }
   ],
   "source": [
    "# Author: [Fuahd ibrahim]\n",
    "# File Name: student_awards.py\n",
    "# Description: This Python app accepts student names and GPAs, then determines if the student qualifies\n",
    "#              for either the Dean's List or the Honor Roll based on GPA criteria.\n",
    "\n",
    "def main():\n",
    "    print(\"Welcome to the Student Awards App!\")\n",
    "    print(\"Enter 'ZZZ' for last name to quit.\")\n",
    "\n",
    "    while True:\n",
    "        last_name = input(\"\\nEnter student's last name: \")\n",
    "        if last_name == 'ZZZ':\n",
    "            print(\"Quitting the program...\")\n",
    "            break\n",
    "\n",
    "        first_name = input(\"Enter student's first name: \")\n",
    "        gpa = float(input(\"Enter student's GPA: \"))\n",
    "\n",
    "        if gpa >= 3.5:\n",
    "            print(f\"{first_name} {last_name} has made the Dean's List!\")\n",
    "        elif gpa >= 3.25:\n",
    "            print(f\"{first_name} {last_name} has made the Honor Roll!\")\n",
    "        else:\n",
    "            print(f\"Sorry, {first_name} {last_name} does not qualify for any awards.\")\n",
    "\n",
    "if __name__ == \"__main__\":\n",
    "    main()\n"
   ]
  },
  {
   "cell_type": "markdown",
   "id": "a937d634-f5df-49a6-8d08-eea83d377356",
   "metadata": {},
   "source": [
    "This Python app, named student_awards.py, allows users to input student names and GPAs. It tests if the student qualifies for either the Dean's List (GPA >= 3.5) or the Honor Roll (GPA >= 3.25) and prints a corresponding message. The program quits when the user enters 'ZZZ' for the last name.\n",
    "\n",
    "\n",
    "\n",
    "\n",
    "\n"
   ]
  }
 ],
 "metadata": {
  "kernelspec": {
   "display_name": "Python 3 (ipykernel)",
   "language": "python",
   "name": "python3"
  },
  "language_info": {
   "codemirror_mode": {
    "name": "ipython",
    "version": 3
   },
   "file_extension": ".py",
   "mimetype": "text/x-python",
   "name": "python",
   "nbconvert_exporter": "python",
   "pygments_lexer": "ipython3",
   "version": "3.11.7"
  }
 },
 "nbformat": 4,
 "nbformat_minor": 5
}
