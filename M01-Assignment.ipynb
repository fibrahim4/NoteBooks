{
 "cells": [
  {
   "cell_type": "code",
   "execution_count": 33,
   "id": "e146513a-13da-458a-a6c5-9bd84b43efa8",
   "metadata": {},
   "outputs": [
    {
     "data": {
      "text/plain": [
       "3600"
      ]
     },
     "execution_count": 33,
     "metadata": {},
     "output_type": "execute_result"
    }
   ],
   "source": [
    "# 3.1 How many seconds are in an hour?\n",
    "# Use the interactive interpreter as a calculator\n",
    "# Multiply the number of seconds in a minute (60) by the number of minutes in an hour (also 60).\n",
    "\n",
    "seconds_in_minute = 60\n",
    "minutes_in_hour = 60\n",
    "\n",
    "seconds_in_hour = seconds_in_minute * minutes_in_hour\n",
    "seconds_in_hour  # Print the result\n"
   ]
  },
  {
   "cell_type": "markdown",
   "id": "55dcc009-e181-48be-9c26-cf759daced7c",
   "metadata": {},
   "source": [
    "This code works by me giving the variable a value and writing a code to multiply 60 by 60 to equal 3600"
   ]
  },
  {
   "cell_type": "code",
   "execution_count": 25,
   "id": "3939cc4c-5676-42b9-b7b8-1442e64e961a",
   "metadata": {},
   "outputs": [
    {
     "data": {
      "text/plain": [
       "3600"
      ]
     },
     "execution_count": 25,
     "metadata": {},
     "output_type": "execute_result"
    }
   ],
   "source": [
    "# 3.2 Assign the result from the previous task (seconds in an hour) to a variable called seconds_per_hour.\n",
    "\n",
    "seconds_per_hour = seconds_in_hour\n",
    "seconds_per_hour  # Print the result\n"
   ]
  },
  {
   "cell_type": "markdown",
   "id": "c43b1de7-6bb5-46bd-b47d-fec07fca2dee",
   "metadata": {},
   "source": [
    "This code works by me giving the refrence that the previous code is the same as secons per hour and all it have to run is the previous answer"
   ]
  },
  {
   "cell_type": "code",
   "execution_count": 26,
   "id": "1c39dc41-aaab-43f9-be40-7eb826287b3b",
   "metadata": {},
   "outputs": [
    {
     "data": {
      "text/plain": [
       "86400"
      ]
     },
     "execution_count": 26,
     "metadata": {},
     "output_type": "execute_result"
    }
   ],
   "source": [
    "# 3.3 How many seconds are in a day?\n",
    "# Use your seconds_per_hour variable.\n",
    "\n",
    "hours_in_day = 24\n",
    "\n",
    "seconds_per_day = seconds_per_hour * hours_in_day\n",
    "seconds_per_day  # Print the result\n"
   ]
  },
  {
   "cell_type": "markdown",
   "id": "00d6d39a-9d08-4172-818a-ab51446b64c0",
   "metadata": {},
   "source": [
    "This works by me giving the variable a value and also telling it to use the previous value for the secons per hour and multiply to get the answer."
   ]
  },
  {
   "cell_type": "code",
   "execution_count": 30,
   "id": "88bda80c-f298-4e5b-83a8-dd5fa21f1344",
   "metadata": {},
   "outputs": [
    {
     "data": {
      "text/plain": [
       "86400"
      ]
     },
     "execution_count": 30,
     "metadata": {},
     "output_type": "execute_result"
    }
   ],
   "source": [
    "# 3.4 Calculate seconds per day again, but this time save the result in a variable called seconds_per_day.\n",
    "\n",
    "seconds_per_day = seconds_per_hour * hours_in_day\n",
    "hours_in_day = 24\n",
    "seconds_per_day  #Print the result"
   ]
  },
  {
   "cell_type": "markdown",
   "id": "369c1efd-ad96-4238-a65a-db9bc3cd3692",
   "metadata": {},
   "source": [
    "1 already have the value of seconds_per_hour calculated and stored.1 already use this value along with the number of hours in a day (hours_in_day) to calculate the total number of seconds in a day.\n",
    "The result is stored in a new variable called seconds_per_day."
   ]
  },
  {
   "cell_type": "code",
   "execution_count": 31,
   "id": "e3bfea09-3c65-43c7-a3ba-8072878e0858",
   "metadata": {},
   "outputs": [
    {
     "data": {
      "text/plain": [
       "24.0"
      ]
     },
     "execution_count": 31,
     "metadata": {},
     "output_type": "execute_result"
    }
   ],
   "source": [
    "# 3.5 Divide seconds_per_day by seconds_per_hour.\n",
    "# Use floating-point (/) division.\n",
    "\n",
    "seconds_per_day_float = seconds_per_day / seconds_per_hour\n",
    "seconds_per_day_float  # Print the result\n"
   ]
  },
  {
   "cell_type": "markdown",
   "id": "5e6339b0-4235-4707-84e5-b30ed89b205a",
   "metadata": {},
   "source": [
    "This code works by using store values and diving each other to get second per day float."
   ]
  },
  {
   "cell_type": "code",
   "execution_count": 32,
   "id": "fd922433-7202-491b-9ec4-7d4dbbd577d7",
   "metadata": {},
   "outputs": [
    {
     "data": {
      "text/plain": [
       "24"
      ]
     },
     "execution_count": 32,
     "metadata": {},
     "output_type": "execute_result"
    }
   ],
   "source": [
    "# 3.6 Divide seconds_per_day by seconds_per_hour, using integer (//) division.\n",
    "# Did this number agree with the floating-point value from the previous question, aside from the final .0?\n",
    "\n",
    "seconds_per_day_int = seconds_per_day // seconds_per_hour\n",
    "seconds_per_day_int  # Print the result\n"
   ]
  },
  {
   "cell_type": "markdown",
   "id": "62147f4a-deac-465c-8ad7-7e27ceaed83d",
   "metadata": {},
   "source": [
    "i perform integer division (//) between the number of seconds in a day and the number of seconds in an hour.The result, seconds_per_day_int, represents how many whole hours are contained within a day. I print this result to see the number of hours as an integer value."
   ]
  }
 ],
 "metadata": {
  "kernelspec": {
   "display_name": "Python 3 (ipykernel)",
   "language": "python",
   "name": "python3"
  },
  "language_info": {
   "codemirror_mode": {
    "name": "ipython",
    "version": 3
   },
   "file_extension": ".py",
   "mimetype": "text/x-python",
   "name": "python",
   "nbconvert_exporter": "python",
   "pygments_lexer": "ipython3",
   "version": "3.11.7"
  }
 },
 "nbformat": 4,
 "nbformat_minor": 5
}
