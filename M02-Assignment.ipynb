{
 "cells": [
  {
   "cell_type": "code",
   "execution_count": 13,
   "id": "d99509b7-6df5-42ce-85bb-1ec69ad08a3a",
   "metadata": {},
   "outputs": [
    {
     "name": "stdout",
     "output_type": "stream",
     "text": [
      "Secret: 10, Guess: 10\n",
      "just right\n"
     ]
    }
   ],
   "source": [
    "# 4.1\n",
    "import random\n",
    "secret = random.randint(1, 10)\n",
    "guess = random.randint(1, 10)\n",
    "print(f'Secret: {secret}, Guess: {guess}')\n",
    "if guess < secret:\n",
    "    print('too low')\n",
    "elif guess > secret:\n",
    "    print('too high')\n",
    "else:\n",
    "    print('just right')"
   ]
  },
  {
   "cell_type": "markdown",
   "id": "52722077-fe3f-4377-9d96-f1cf69a5b9f0",
   "metadata": {},
   "source": [
    "In this section, i generate two random numbers between 1 and 10 for secret and guess. We then use conditional statements to compare these values:\n",
    "\n",
    "If guess is less than secret, we print 'too low'.\n",
    "If guess is greater than secret, we print 'too high'.\n",
    "If guess equals secret, we print 'just right'.\n"
   ]
  },
  {
   "cell_type": "code",
   "execution_count": 16,
   "id": "1fb303d3-a1ac-47d3-bb45-168cd634a2e1",
   "metadata": {},
   "outputs": [
    {
     "name": "stdout",
     "output_type": "stream",
     "text": [
      "cherry\n"
     ]
    }
   ],
   "source": [
    "# 4.2\n",
    "small = True\n",
    "green = False\n",
    "if small:\n",
    "    if green:\n",
    "        print('pea')\n",
    "    else:\n",
    "        print('cherry')\n",
    "else:\n",
    "    if green:\n",
    "        print('watermelon')\n",
    "    else:\n",
    "        print('pumpkin')"
   ]
  },
  {
   "cell_type": "markdown",
   "id": "208e6aa5-2e80-49d6-a2e2-84aff4b4efc3",
   "metadata": {},
   "source": [
    "i assigned Boolean values to the variables small and green to represent an object's properties. We use nested if/else statements to determine the object based on its properties:\n",
    "\n",
    "A small and green object is a pea.\n",
    "A small and not green object is a cherry.\n",
    "A not small and green object is a watermelon.\n",
    "A not small and not green object is a pumpkin.\n",
    "This section illustrates how to use Boolean variables and nested conditional statements to categorize objects based on their properties.\n",
    "\n"
   ]
  },
  {
   "cell_type": "code",
   "execution_count": 17,
   "id": "95e92625-138d-48f1-982b-169522be3b5c",
   "metadata": {},
   "outputs": [
    {
     "name": "stdout",
     "output_type": "stream",
     "text": [
      "3\n",
      "2\n",
      "1\n",
      "0\n"
     ]
    }
   ],
   "source": [
    "# 6.1\n",
    "for value in [3, 2, 1, 0]:\n",
    "    print(value)"
   ]
  },
  {
   "cell_type": "markdown",
   "id": "9dd52d4b-24dd-4340-80a7-517d3b3a6c05",
   "metadata": {},
   "source": [
    "i used a for loop to iterate through a list of numbers [3, 2, 1, 0] and print each value. This demonstrates the basic use of a for loop to iterate over a list."
   ]
  },
  {
   "cell_type": "code",
   "execution_count": 19,
   "id": "957d29a7-1506-42e8-92de-6f7c389c97d3",
   "metadata": {},
   "outputs": [
    {
     "name": "stdout",
     "output_type": "stream",
     "text": [
      "too low\n",
      "too low\n",
      "too low\n",
      "too low\n",
      "too low\n",
      "too low\n",
      "found it!\n"
     ]
    }
   ],
   "source": [
    "# 6.2\n",
    "guess_me = 7\n",
    "number = 1\n",
    "while True:\n",
    "    if number < guess_me:\n",
    "        print('too low')\n",
    "    elif number == guess_me:\n",
    "        print('found it!')\n",
    "        break\n",
    "    else:\n",
    "        print('oops')\n",
    "        break\n",
    "    number += 1"
   ]
  },
  {
   "cell_type": "markdown",
   "id": "9ed04d2c-9e07-4535-87df-02cf6e323344",
   "metadata": {},
   "source": [
    "I set guess_me to 7 and number to 1. A while loop is used to increment number and compare it with guess_me:\n",
    "\n",
    "If number is less than guess_me, we print 'too low'.\n",
    "If number equals guess_me, we print 'found it!' and exit the loop.\n",
    "If number is greater than guess_me, we print 'oops' and exit the loop.\n"
   ]
  },
  {
   "cell_type": "code",
   "execution_count": 24,
   "id": "8fea7bdd-dd5d-4372-83fb-999f4e031410",
   "metadata": {},
   "outputs": [
    {
     "name": "stdout",
     "output_type": "stream",
     "text": [
      "too low\n",
      "too low\n",
      "too low\n",
      "too low\n",
      "too low\n",
      "found it!\n"
     ]
    }
   ],
   "source": [
    "# 6.3\n",
    "guess_me = 5\n",
    "for number in range(10):\n",
    "    if number < guess_me:\n",
    "        print('too low')\n",
    "    elif number == guess_me:\n",
    "        print('found it!')\n",
    "        break\n",
    "    else:\n",
    "        print('oops')\n",
    "        break"
   ]
  },
  {
   "cell_type": "markdown",
   "id": "40d6aadf-0884-4213-b867-1506448a22c2",
   "metadata": {},
   "source": [
    "We assign 5 to guess_me and use a for loop with range(10) to iterate number from 0 to 9. The loop compares number with guess_me:\n",
    "\n",
    "If number is less than guess_me, we print 'too low'.\n",
    "If number equals guess_me, we print 'found it!' and exit the loop.\n",
    "If number is greater than guess_me, we print 'oops' and exit the loop."
   ]
  }
 ],
 "metadata": {
  "kernelspec": {
   "display_name": "Python 3 (ipykernel)",
   "language": "python",
   "name": "python3"
  },
  "language_info": {
   "codemirror_mode": {
    "name": "ipython",
    "version": 3
   },
   "file_extension": ".py",
   "mimetype": "text/x-python",
   "name": "python",
   "nbconvert_exporter": "python",
   "pygments_lexer": "ipython3",
   "version": "3.11.7"
  }
 },
 "nbformat": 4,
 "nbformat_minor": 5
}
