{
 "cells": [
  {
   "cell_type": "code",
   "execution_count": 18,
   "id": "172f4934-b014-405b-b5e7-6c1697f84e42",
   "metadata": {},
   "outputs": [
    {
     "name": "stdout",
     "output_type": "stream",
     "text": [
      "Overwriting zoo.py\n"
     ]
    }
   ],
   "source": [
    "%%writefile zoo.py\n",
    "def hours():\n",
    "    print('Open 9-5 daily')"
   ]
  },
  {
   "cell_type": "markdown",
   "id": "763458be-f5be-4461-a5cb-3a15ac1f8b5a",
   "metadata": {},
   "source": [
    "11.1 Create a file called zoo.py. In it, define a function called hours() that prints the string 'Open 9-5 daily'. Then, use the interactive interpreter to import the zoo module and call its hours() function."
   ]
  },
  {
   "cell_type": "code",
   "execution_count": 19,
   "id": "5b847510-1115-434a-bfd5-dae5375b1c8e",
   "metadata": {},
   "outputs": [
    {
     "name": "stdout",
     "output_type": "stream",
     "text": [
      "Open 9-5 daily\n"
     ]
    }
   ],
   "source": [
    "import zoo\n",
    "zoo.hours()"
   ]
  },
  {
   "cell_type": "markdown",
   "id": "28a4f566-7007-4fb1-9fda-5b80f382876e",
   "metadata": {},
   "source": [
    "11.2 In the interactive interpreter, import the zoo module as menagerie and call its hours() function."
   ]
  },
  {
   "cell_type": "code",
   "execution_count": 20,
   "id": "fb18b33e-c432-4bdd-a6b8-7161075bf449",
   "metadata": {},
   "outputs": [
    {
     "name": "stdout",
     "output_type": "stream",
     "text": [
      "Open 9-5 daily\n"
     ]
    }
   ],
   "source": [
    "from zoo import hours\n",
    "hours()"
   ]
  },
  {
   "cell_type": "markdown",
   "id": "b7386366-ca40-4163-b182-3db3e8d6ffc1",
   "metadata": {},
   "source": [
    "11.3 Staying in the interpreter, import the hours() function from zoo directly and call it.\n",
    "\n"
   ]
  },
  {
   "cell_type": "code",
   "execution_count": 21,
   "id": "d7a83d4d-941e-4ac3-ba04-a464ab681430",
   "metadata": {},
   "outputs": [
    {
     "name": "stdout",
     "output_type": "stream",
     "text": [
      "Open 9-5 daily\n"
     ]
    }
   ],
   "source": [
    "from zoo import hours as info\n",
    "info()"
   ]
  },
  {
   "cell_type": "markdown",
   "id": "308e1df5-395c-4abc-9a55-71d9e155ae5b",
   "metadata": {},
   "source": [
    "11.4 Import the hours() function as info and call it."
   ]
  }
 ],
 "metadata": {
  "kernelspec": {
   "display_name": "Python 3 (ipykernel)",
   "language": "python",
   "name": "python3"
  },
  "language_info": {
   "codemirror_mode": {
    "name": "ipython",
    "version": 3
   },
   "file_extension": ".py",
   "mimetype": "text/x-python",
   "name": "python",
   "nbconvert_exporter": "python",
   "pygments_lexer": "ipython3",
   "version": "3.11.7"
  }
 },
 "nbformat": 4,
 "nbformat_minor": 5
}
