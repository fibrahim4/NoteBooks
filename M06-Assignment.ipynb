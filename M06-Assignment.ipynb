{
 "cells": [
  {
   "cell_type": "code",
   "execution_count": 5,
   "id": "03886ef4-c1e8-4e1b-ae7c-7a660edcb370",
   "metadata": {},
   "outputs": [
    {
     "name": "stdout",
     "output_type": "stream",
     "text": [
      "Today's date: 2024-04-28\n"
     ]
    }
   ],
   "source": [
    "import datetime\n",
    "\n",
    "# 13.1 Write the current date as a string to the text file today.txt.\n",
    "with open('today.txt', 'w') as file:\n",
    "    today_date = datetime.date.today()\n",
    "    file.write(str(today_date))\n",
    "\n",
    "# 13.2 Read the text file today.txt into the string today_string.\n",
    "with open('today.txt', 'r') as file:\n",
    "    today_string = file.read()\n",
    "\n",
    "# 13.3 Parse the date from today_string.\n",
    "parsed_date = datetime.datetime.strptime(today_string, '%Y-%m-%d').date()\n",
    "\n",
    "print(\"Today's date:\", parsed_date)\n"
   ]
  },
  {
   "cell_type": "raw",
   "id": "4a1e2180-005d-428a-a631-78f4b5af0fb3",
   "metadata": {},
   "source": [
    "Import the datetime module to work with dates and times.\n",
    "Open the file 'today.txt' in write mode using open() function and a context manager (with statement).\n",
    "Get the current date using datetime.date.today() method.\n",
    "Convert the date object to a string using str() function.\n",
    "Write the date string to the file using the write() method.\n",
    "Close the file.\n"
   ]
  },
  {
   "cell_type": "code",
   "execution_count": null,
   "id": "1985a87f-2aef-4051-a7cd-10e7495721cd",
   "metadata": {},
   "outputs": [],
   "source": [
    "import multiprocessing\n",
    "import random\n",
    "import time\n",
    "from datetime import datetime\n",
    "\n",
    "def process_func():\n",
    "    # Generate a random sleep time between 0 and 1 seconds\n",
    "    sleep_time = random.random()\n",
    "    time.sleep(sleep_time)\n",
    "    \n",
    "    # Print the current time\n",
    "    current_time = datetime.now().strftime(\"%Y-%m-%d %H:%M:%S\")\n",
    "    print(\"Current time:\", current_time)\n",
    "    \n",
    "    # Exit the process\n",
    "    print(\"Process finished.\")\n",
    "\n",
    "if __name__ == \"__main__\":\n",
    "    # Create three separate processes\n",
    "    processes = []\n",
    "    for _ in range(3):\n",
    "        process = multiprocessing.Process(target=process_func)\n",
    "        processes.append(process)\n",
    "        process.start()\n",
    "\n",
    "    # Wait for all processes to finish\n",
    "    for process in processes:\n",
    "        process.join()\n",
    "\n",
    "    print(\"All processes have finished.\")\n"
   ]
  },
  {
   "cell_type": "raw",
   "id": "33211296-eb18-4e98-a754-660bb3036801",
   "metadata": {},
   "source": [
    "Objective: Use multiprocessing to create three separate processes. Each process should wait a random number of seconds between zero and one, print the current time, and then exit.\n"
   ]
  }
 ],
 "metadata": {
  "kernelspec": {
   "display_name": "Python 3 (ipykernel)",
   "language": "python",
   "name": "python3"
  },
  "language_info": {
   "codemirror_mode": {
    "name": "ipython",
    "version": 3
   },
   "file_extension": ".py",
   "mimetype": "text/x-python",
   "name": "python",
   "nbconvert_exporter": "python",
   "pygments_lexer": "ipython3",
   "version": "3.11.7"
  }
 },
 "nbformat": 4,
 "nbformat_minor": 5
}
