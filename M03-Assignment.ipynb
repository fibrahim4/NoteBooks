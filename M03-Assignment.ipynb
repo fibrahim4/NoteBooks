{
 "cells": [
  {
   "cell_type": "code",
   "execution_count": null,
   "id": "0bd75f91-58df-4f73-90cc-61a1c719d710",
   "metadata": {},
   "outputs": [],
   "source": [
    "# 7.4 Make a list called things with these three strings as elements: \"mozzarella\", \"cinderella\", \"salmonella\".\n",
    "things = [\"mozzarella\", \"cinderella\", \"salmonella\"]\n",
    "\n",
    "# Print the list\n",
    "print(things)\n"
   ]
  },
  {
   "cell_type": "markdown",
   "id": "1ce14a6c-ec35-4e2f-89e8-70b03e4537dc",
   "metadata": {},
   "source": [
    "Purpose: This code snippet initializes a list called things with three strings as elements: \"mozzarella\", \"cinderella\", and \"salmonella\".\n",
    "Explanation: The line things = [\"mozzarella\", \"cinderella\", \"salmonella\"] creates a list named things containing the provided strings."
   ]
  },
  {
   "cell_type": "code",
   "execution_count": 5,
   "id": "e37c66eb-167d-4354-8d09-b7d940ca02d3",
   "metadata": {},
   "outputs": [
    {
     "name": "stdout",
     "output_type": "stream",
     "text": [
      "['Mozzarella', 'Cinderella', 'Salmonella']\n"
     ]
    }
   ],
   "source": [
    "# 7.5\n",
    "for index, item in enumerate(things):\n",
    "    if \"ella\" in item:\n",
    "        things[index] = item.capitalize()\n",
    "\n",
    "print(things)  # Print the modified list\n",
    "# The element \"cinderella\" has been changed to \"Cinderella\".\n"
   ]
  },
  {
   "cell_type": "markdown",
   "id": "428c53fb-35f3-4d73-b5e8-e0f16ffe18d1",
   "metadata": {},
   "source": [
    "Purpose: Capitalizes the element in things that refers to a person and prints the list.\n",
    "Explanation: It iterates through the things list using enumerate() to get both the index and item. If the substring \"ella\" is present in an item, it's assumed to refer to a person, so the capitalize() method is applied to capitalize it."
   ]
  },
  {
   "cell_type": "code",
   "execution_count": 6,
   "id": "8290085e-c472-422f-9dd1-dfe39e3462d5",
   "metadata": {},
   "outputs": [
    {
     "name": "stdout",
     "output_type": "stream",
     "text": [
      "['Mozzarella', 'Cinderella', 'Salmonella']\n"
     ]
    }
   ],
   "source": [
    "# 7.6\n",
    "for index, item in enumerate(things):\n",
    "    if \"moz\" in item:\n",
    "        things[index] = item.upper()\n",
    "\n",
    "print(things)  # Print the modified list with \"mozzarella\" in uppercase."
   ]
  },
  {
   "cell_type": "markdown",
   "id": "1f6658c2-8b53-41e3-8a8d-a10e1d66b836",
   "metadata": {},
   "source": [
    "Purpose: Converts the cheesy element in things to all uppercase and prints the list.\n",
    "Explanation: It iterates through the things list using enumerate() to get both the index and item. If the substring \"moz\" is present in an item, it's assumed to be cheesy, so the upper() method is applied to convert it to uppercase."
   ]
  },
  {
   "cell_type": "code",
   "execution_count": 8,
   "id": "7f9d78fe-5775-4115-92bc-583b310b48d3",
   "metadata": {},
   "outputs": [
    {
     "name": "stdout",
     "output_type": "stream",
     "text": [
      "['mozzarella', 'cinderella']\n"
     ]
    }
   ],
   "source": [
    "# 7.7 Delete the disease element from things and print the list.\n",
    "things = [\"mozzarella\", \"cinderella\", \"salmonella\"]\n",
    "\n",
    "# Use list comprehension to create a new list without \"salmonella\"\n",
    "things = [item for item in things if item != \"salmonella\"]\n",
    "\n",
    "print(things)  # Print the updated list\n"
   ]
  },
  {
   "cell_type": "markdown",
   "id": "d8579884-4323-4a8d-874e-281c158ea902",
   "metadata": {},
   "source": [
    "It uses list comprehension to create a new list without the \"salmonella\" element. The list comprehension filters out any item equal to \"salmonella\", effectively removing it from the list.\n"
   ]
  },
  {
   "cell_type": "code",
   "execution_count": 11,
   "id": "1f15420e-93a6-437f-8a53-7d98c299e095",
   "metadata": {},
   "outputs": [
    {
     "name": "stdout",
     "output_type": "stream",
     "text": [
      "['Harry', 'Ron', 'Hermione']\n"
     ]
    }
   ],
   "source": [
    "# 9.1 Define a function called good() that returns the following list: ['Harry', 'Ron', 'Hermione'].\n",
    "\n",
    "def good():\n",
    "    return ['Harry', 'Ron', 'Hermione']\n",
    "\n",
    "# Call the function and print the returned list\n",
    "print(good())\n"
   ]
  },
  {
   "cell_type": "markdown",
   "id": "ea824bf2-107f-4684-ab31-d12a37559a27",
   "metadata": {},
   "source": [
    "Purpose: Defines a function called good() that returns a specific list.\n",
    "Explanation: The good() function simply returns the list ['Harry', 'Ron', 'Hermione'] whenever it's called. This encapsulates the logic of returning this specific list within a function for easy reuse.\n"
   ]
  },
  {
   "cell_type": "code",
   "execution_count": 12,
   "id": "ee7899d6-fb5b-4033-849c-7b0baab4ede3",
   "metadata": {},
   "outputs": [
    {
     "name": "stdout",
     "output_type": "stream",
     "text": [
      "The third odd number is: 5\n"
     ]
    }
   ],
   "source": [
    "# 9.2\n",
    "def get_odds():\n",
    "    for num in range(1, 10, 2):  # Start from 1, increment by 2, up to 9\n",
    "        yield num\n",
    "\n",
    "# Use a for loop to find and print the third value returned by get_odds()\n",
    "count = 0\n",
    "for number in get_odds():\n",
    "    count += 1\n",
    "    if count == 3:\n",
    "        print(\"The third odd number is:\", number)\n",
    "        break"
   ]
  },
  {
   "cell_type": "markdown",
   "id": "fee204b5-8f47-40ad-bee2-164787f342fc",
   "metadata": {},
   "source": [
    "Purpose: Defines a generator function called get_odds() to yield odd numbers from a range and prints the third value.\n",
    "Explanation: The get_odds() function yields odd numbers from the range 1 to 9 (inclusive) using a generator. It increments by 2 in each iteration. Then, a for loop is used to iterate through the generator and print the third value returned."
   ]
  }
 ],
 "metadata": {
  "kernelspec": {
   "display_name": "Python 3 (ipykernel)",
   "language": "python",
   "name": "python3"
  },
  "language_info": {
   "codemirror_mode": {
    "name": "ipython",
    "version": 3
   },
   "file_extension": ".py",
   "mimetype": "text/x-python",
   "name": "python",
   "nbconvert_exporter": "python",
   "pygments_lexer": "ipython3",
   "version": "3.11.7"
  }
 },
 "nbformat": 4,
 "nbformat_minor": 5
}
